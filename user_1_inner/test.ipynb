{
 "cells": [
  {
   "cell_type": "markdown",
   "metadata": {},
   "source": [
    "# Instructions\n",
    "\n",
    "Hi!\n",
    "\n",
    "1. This is the test. You have 75 minutes to complete it and commit the final version of this file to the repo. Please treat the test and the data as confidential and do not share them.\n",
    "\n",
    "\n",
    "2. I will treat the time of your last commit as the time you finished the test. The max score you can receive is 100. For every 1 minute over 75 minutes you will lose 1 point. For example, if you complete the test in 90 minutes, you will lose 15 points.\n",
    "\n",
    "3. Feel free to use any resources available (internet, class notes, etc.), but do the test on your own. If you copy code from the internet, just add a link as a comment. It is perfectly fine to copy code as long you understand it, and don't violate any licenses.\n",
    "\n",
    "Thanks for taking the time to take the test and good luck!\n",
    "\n",
    "— Maciej\n",
    "\n"
   ]
  },
  {
   "cell_type": "markdown",
   "metadata": {},
   "source": [
    "# Scoring\n",
    "\n",
    "| task | max score | note     |\n",
    "| ---- | --------- | -------- |\n",
    "| 1    | 30        |          |\n",
    "| 2    | 3         |          |\n",
    "| 3    | 7         |          |\n",
    "| 4    | 10        |          |\n",
    "| 5    | 15        |          |\n",
    "| 6    | 30        |          |\n",
    "| 7    | 5         |          |\n",
    "| 8    | 20        | optional |\n",
    "\n"
   ]
  },
  {
   "cell_type": "markdown",
   "metadata": {},
   "source": [
    "# Task 1\n",
    "**Points: 30**\n",
    "\n",
    "Write, document, and test a function that takes three numbers and prints a string based on the following specifications.\n",
    "\n",
    "The function should print:\n",
    "- \"woof\" if the **first** number is divisible by the third number, \n",
    "- \"meow\" if the **second** number is divisible by the third number, \n",
    "- \"bark\" if **both the first and the second** numbers are divisible by the third number. \n",
    "\n",
    "If none of the first two numbers is divisible by the third number, the function should not print anything. \n",
    "\n",
    "All three arguments should be positive integers. Assume that they can be in the range of 1 to 1000000000. Your function should handle all numbers in this range properly.\n",
    "\n",
    "I am including starter code below."
   ]
  },
  {
   "cell_type": "code",
   "execution_count": 8,
   "metadata": {},
   "outputs": [
    {
     "name": "stdout",
     "output_type": "stream",
     "text": [
      "IN\n",
      "\n"
     ]
    }
   ],
   "source": [
    "def woof_meow_bark(num_1, num_2, num_3):\n",
    "    print(\"IN\")\n",
    "    str1 = \"\"\n",
    "    # Solution\n",
    "    if num_1 % num_3 == 0:\n",
    "        str1 = \"woof\"\n",
    "    elif num_2 % num_3 == 0:\n",
    "        str1 = \"meow\"\n",
    "    elif num_1 % num_3 == 0 and num_2 % num_3 == 0:\n",
    "        str1 = \"bark\"\n",
    "    else:\n",
    "        str1 = \"\"\n",
    "    \n",
    "    return str1\n",
    "\n",
    "    \"\"\"\n",
    "\n",
    "    Examples\n",
    "    —--—----\n",
    "    >>> woof_meow_bark(num_1=4, num_2=1, num_3=2)\n",
    "    woof\n",
    "\n",
    "    >>> woof_meow_bark(num_1=1, num_2=4, num_3=2)\n",
    "    meow\n",
    "\n",
    "    >>> woof_meow_bark(num_1=8, num_2=4, num_3=2)\n",
    "    bark\n",
    "\n",
    "    \"\"\"\n",
    "print(woof_meow_bark(3,4,6))"
   ]
  },
  {
   "cell_type": "markdown",
   "metadata": {},
   "source": [
    "# Task 2\n",
    "**Points: 3**\n",
    "\n",
    "1. Load this csv file, ideally as a pandas dataframe:\n",
    "\n",
    "    `battery_status__2021_03_16__05__EDT.csv` (Do not use absolute paths.)\n",
    "\n",
    "    The file contains battery level data for a single device of one study participant.\n",
    "    The entries (columns) in each row are: \"date_time\", \"x\", \"is_charging\", \"battery_level.\"\n",
    "\n",
    "    If you ever need to use date_time, it is encoded in the following format. \n",
    "    \n",
    "      \"15-39-47-768_05-26-50_EDT\" means:\n",
    "      - hour:\"15\"\n",
    "      \n",
    "      - minute:\"39\"\n",
    "\n",
    "      - second:\"47\"\n",
    "\n",
    "      - microsecond:\"768\"\n",
    "\n",
    "      - day:\"26\"\n",
    "\n",
    "      - month:\"5\"\n",
    "\n",
    "      - year:\"2050\"\n",
    "    \n",
    "\n",
    "2. Drop the \"x\" column. \n",
    "3. Plot battery levels over time as a line plot; add a title as well as x and y labels.\n",
    "4. Do these data look correct to you?\n",
    "- If yes, describe the data in two short sentences.\n",
    "- If no, document the issue(s) and implement a fix that makes the most sense to you.\n"
   ]
  },
  {
   "cell_type": "code",
   "execution_count": 25,
   "metadata": {},
   "outputs": [
    {
     "data": {
      "text/html": [
       "<div>\n",
       "<style scoped>\n",
       "    .dataframe tbody tr th:only-of-type {\n",
       "        vertical-align: middle;\n",
       "    }\n",
       "\n",
       "    .dataframe tbody tr th {\n",
       "        vertical-align: top;\n",
       "    }\n",
       "\n",
       "    .dataframe thead th {\n",
       "        text-align: right;\n",
       "    }\n",
       "</style>\n",
       "<table border=\"1\" class=\"dataframe\">\n",
       "  <thead>\n",
       "    <tr style=\"text-align: right;\">\n",
       "      <th></th>\n",
       "      <th>date_time</th>\n",
       "      <th>x</th>\n",
       "      <th>is_charging</th>\n",
       "      <th>battery_level</th>\n",
       "    </tr>\n",
       "  </thead>\n",
       "  <tbody>\n",
       "    <tr>\n",
       "      <th>0</th>\n",
       "      <td>05-00-46-176_03-16-21_EDT</td>\n",
       "      <td>2</td>\n",
       "      <td>True</td>\n",
       "      <td>83</td>\n",
       "    </tr>\n",
       "    <tr>\n",
       "      <th>1</th>\n",
       "      <td>05-00-48-583_03-16-21_EDT</td>\n",
       "      <td>2</td>\n",
       "      <td>True</td>\n",
       "      <td>83</td>\n",
       "    </tr>\n",
       "    <tr>\n",
       "      <th>2</th>\n",
       "      <td>05-01-48-599_03-16-21_EDT</td>\n",
       "      <td>2</td>\n",
       "      <td>True</td>\n",
       "      <td>84</td>\n",
       "    </tr>\n",
       "    <tr>\n",
       "      <th>3</th>\n",
       "      <td>05-02-28-752_03-16-21_EDT</td>\n",
       "      <td>2</td>\n",
       "      <td>True</td>\n",
       "      <td>84</td>\n",
       "    </tr>\n",
       "    <tr>\n",
       "      <th>4</th>\n",
       "      <td>05-02-48-599_03-16-21_EDT</td>\n",
       "      <td>2</td>\n",
       "      <td>True</td>\n",
       "      <td>84</td>\n",
       "    </tr>\n",
       "  </tbody>\n",
       "</table>\n",
       "</div>"
      ],
      "text/plain": [
       "                   date_time  x  is_charging  battery_level\n",
       "0  05-00-46-176_03-16-21_EDT  2         True             83\n",
       "1  05-00-48-583_03-16-21_EDT  2         True             83\n",
       "2  05-01-48-599_03-16-21_EDT  2         True             84\n",
       "3  05-02-28-752_03-16-21_EDT  2         True             84\n",
       "4  05-02-48-599_03-16-21_EDT  2         True             84"
      ]
     },
     "execution_count": 25,
     "metadata": {},
     "output_type": "execute_result"
    }
   ],
   "source": [
    "import pandas as pd\n",
    "import matplotlib.pyplot as plt\n",
    "\n",
    "plt.rcParams[\"figure.figsize\"] = [7.50, 3.50]\n",
    "plt.rcParams[\"figure.autolayout\"] = True\n",
    "\n",
    "\n",
    "df = pd.read_csv('battery_status__2021_03_16__05__EDT.csv')\n",
    "\n",
    "df.head()"
   ]
  },
  {
   "cell_type": "code",
   "execution_count": 26,
   "metadata": {},
   "outputs": [],
   "source": [
    "# drop the X coloumn\n",
    "df1 = df.drop(columns=['x'])"
   ]
  },
  {
   "cell_type": "code",
   "execution_count": 33,
   "metadata": {},
   "outputs": [
    {
     "data": {
      "image/png": "[encoded data removed]",
      "text/plain": [
       "<Figure size 540x252 with 1 Axes>"
      ]
     },
     "metadata": {
      "needs_background": "light"
     },
     "output_type": "display_data"
    }
   ],
   "source": [
    "\n",
    "df1.set_index('date_time').plot()\n",
    "plt.xticks(rotation=45)\n",
    "plt.ylabel(\"Battery level\")\n",
    "plt.show()"
   ]
  },
  {
   "cell_type": "code",
   "execution_count": 35,
   "metadata": {},
   "outputs": [
    {
     "data": {
      "text/html": [
       "<div>\n",
       "<style scoped>\n",
       "    .dataframe tbody tr th:only-of-type {\n",
       "        vertical-align: middle;\n",
       "    }\n",
       "\n",
       "    .dataframe tbody tr th {\n",
       "        vertical-align: top;\n",
       "    }\n",
       "\n",
       "    .dataframe thead th {\n",
       "        text-align: right;\n",
       "    }\n",
       "</style>\n",
       "<table border=\"1\" class=\"dataframe\">\n",
       "  <thead>\n",
       "    <tr style=\"text-align: right;\">\n",
       "      <th></th>\n",
       "      <th>date_time</th>\n",
       "      <th>is_charging</th>\n",
       "      <th>battery_level</th>\n",
       "    </tr>\n",
       "  </thead>\n",
       "  <tbody>\n",
       "    <tr>\n",
       "      <th>62</th>\n",
       "      <td>05-43-48-603_03-16-21_EDT</td>\n",
       "      <td>True</td>\n",
       "      <td>19</td>\n",
       "    </tr>\n",
       "  </tbody>\n",
       "</table>\n",
       "</div>"
      ],
      "text/plain": [
       "                    date_time  is_charging  battery_level\n",
       "62  05-43-48-603_03-16-21_EDT         True             19"
      ]
     },
     "execution_count": 35,
     "metadata": {},
     "output_type": "execute_result"
    }
   ],
   "source": [
    "# how many rows of data where the dip occured?\n",
    "df2 = df1[df1['battery_level']<25]\n",
    "df2"
   ]
  },
  {
   "cell_type": "markdown",
   "metadata": {},
   "source": [
    "### Does the plot look correct?\n",
    "\n",
    "The plot definetly dosent seem right. At 05-43-43-681_03-16-21_EDT the battery level is 98, then 4 seconds later 05-43-48-603_03-16-21_EDT it dips to 19 and then 1 minute later its 05-44-48-595_03-16-21_EDT back to 98.\n",
    "\n",
    "Since its just one entry and the number of rows with a normal reading is greater, we can drop this row as its an outlier(possibly due to a glitch in the recording sensor perhaps!)\n",
    "\n",
    "\n"
   ]
  },
  {
   "cell_type": "markdown",
   "metadata": {},
   "source": [
    "# Task 3\n",
    "**Points: 7**\n",
    "\n",
    "Write and document a function that takes the dataframe as an argument and returns the mean battery level as a float (rounded to two decimal places)\n",
    "\n",
    "- There is a very easy way to do it and the correct way to do it. Describe both approaches in up to four short sentences in total.\n",
    "\n",
    "- Pick one of them and justify your choice in up to three short sentences. Implement it."
   ]
  },
  {
   "cell_type": "markdown",
   "metadata": {},
   "source": [
    "### Solution\n",
    "\n",
    "To get the descriptive stats about the dataframe such as mean, median, percentile etc, we can use the short way of df.describe()\n",
    "\n",
    "To get the mean for a specific column we can apply the mean() function to that coloumn  in the dataframe.\n",
    "\n",
    "ie., df1['battery_level'].mean(axis=0) "
   ]
  },
  {
   "cell_type": "code",
   "execution_count": 38,
   "metadata": {},
   "outputs": [
    {
     "data": {
      "text/html": [
       "<div>\n",
       "<style scoped>\n",
       "    .dataframe tbody tr th:only-of-type {\n",
       "        vertical-align: middle;\n",
       "    }\n",
       "\n",
       "    .dataframe tbody tr th {\n",
       "        vertical-align: top;\n",
       "    }\n",
       "\n",
       "    .dataframe thead th {\n",
       "        text-align: right;\n",
       "    }\n",
       "</style>\n",
       "<table border=\"1\" class=\"dataframe\">\n",
       "  <thead>\n",
       "    <tr style=\"text-align: right;\">\n",
       "      <th></th>\n",
       "      <th>battery_level</th>\n",
       "    </tr>\n",
       "  </thead>\n",
       "  <tbody>\n",
       "    <tr>\n",
       "      <th>count</th>\n",
       "      <td>85.000000</td>\n",
       "    </tr>\n",
       "    <tr>\n",
       "      <th>mean</th>\n",
       "      <td>92.741176</td>\n",
       "    </tr>\n",
       "    <tr>\n",
       "      <th>std</th>\n",
       "      <td>9.627778</td>\n",
       "    </tr>\n",
       "    <tr>\n",
       "      <th>min</th>\n",
       "      <td>19.000000</td>\n",
       "    </tr>\n",
       "    <tr>\n",
       "      <th>25%</th>\n",
       "      <td>89.000000</td>\n",
       "    </tr>\n",
       "    <tr>\n",
       "      <th>50%</th>\n",
       "      <td>94.000000</td>\n",
       "    </tr>\n",
       "    <tr>\n",
       "      <th>75%</th>\n",
       "      <td>98.000000</td>\n",
       "    </tr>\n",
       "    <tr>\n",
       "      <th>max</th>\n",
       "      <td>102.000000</td>\n",
       "    </tr>\n",
       "  </tbody>\n",
       "</table>\n",
       "</div>"
      ],
      "text/plain": [
       "       battery_level\n",
       "count      85.000000\n",
       "mean       92.741176\n",
       "std         9.627778\n",
       "min        19.000000\n",
       "25%        89.000000\n",
       "50%        94.000000\n",
       "75%        98.000000\n",
       "max       102.000000"
      ]
     },
     "execution_count": 38,
     "metadata": {},
     "output_type": "execute_result"
    }
   ],
   "source": [
    "# short way\n",
    "df1.describe()"
   ]
  },
  {
   "cell_type": "code",
   "execution_count": 39,
   "metadata": {},
   "outputs": [],
   "source": [
    "# correct way\n",
    "def calculate_mean_battery_level():\n",
    "    val = df1['battery_level'].mean(axis=0)\n",
    "    # round to 2 places\n",
    "    return round(val,2)\n"
   ]
  },
  {
   "cell_type": "code",
   "execution_count": 37,
   "metadata": {},
   "outputs": [
    {
     "name": "stdout",
     "output_type": "stream",
     "text": [
      "92.74\n"
     ]
    }
   ],
   "source": [
    "print(calculate_mean_battery_level())"
   ]
  },
  {
   "cell_type": "markdown",
   "metadata": {},
   "source": [
    "# Task 4\n",
    "**Points: 10**\n",
    "\n",
    "Load all csv files in this directory that start with \"battery_status__\".\n",
    "\n",
    "Write and document a function that takes the dataframe as an argument and returns to total time the battery was fully charged."
   ]
  },
  {
   "cell_type": "code",
   "execution_count": 58,
   "metadata": {},
   "outputs": [],
   "source": [
    "# Load all csv files in this directory that start with \"battery_status__\"\n",
    "import pandas\n",
    "import os\n",
    "import datetime\n",
    "\n",
    "path = \"./\"\n",
    "files = os.listdir(path) # Returns list of files in the folder which is specifed path\n",
    "li = []\n",
    "for file in files:\n",
    "    if file.startswith(\"battery_status__\"):# Checking wheter file starts with battery_status__\n",
    "        # os.sep returns the separtor of operator system\n",
    "        # exec(f\"{file[:-4]} = pandas.read_csv({path}+{os.sep}+{file})\")\n",
    "        df = pd.read_csv(file, index_col=None, header=0)\n",
    "        li.append(df)\n",
    "df_concat = pd.concat(li,axis=0, ignore_index=True)"
   ]
  },
  {
   "cell_type": "code",
   "execution_count": 43,
   "metadata": {},
   "outputs": [
    {
     "data": {
      "text/html": [
       "<div>\n",
       "<style scoped>\n",
       "    .dataframe tbody tr th:only-of-type {\n",
       "        vertical-align: middle;\n",
       "    }\n",
       "\n",
       "    .dataframe tbody tr th {\n",
       "        vertical-align: top;\n",
       "    }\n",
       "\n",
       "    .dataframe thead th {\n",
       "        text-align: right;\n",
       "    }\n",
       "</style>\n",
       "<table border=\"1\" class=\"dataframe\">\n",
       "  <thead>\n",
       "    <tr style=\"text-align: right;\">\n",
       "      <th></th>\n",
       "      <th>date_time</th>\n",
       "      <th>x</th>\n",
       "      <th>is_charging</th>\n",
       "      <th>battery_level</th>\n",
       "    </tr>\n",
       "  </thead>\n",
       "  <tbody>\n",
       "    <tr>\n",
       "      <th>0</th>\n",
       "      <td>22-37-55-422_02-21-21_EST</td>\n",
       "      <td>2</td>\n",
       "      <td>True</td>\n",
       "      <td>89</td>\n",
       "    </tr>\n",
       "    <tr>\n",
       "      <th>1</th>\n",
       "      <td>22-38-45-207_02-21-21_EST</td>\n",
       "      <td>2</td>\n",
       "      <td>True</td>\n",
       "      <td>89</td>\n",
       "    </tr>\n",
       "    <tr>\n",
       "      <th>2</th>\n",
       "      <td>22-39-45-197_02-21-21_EST</td>\n",
       "      <td>2</td>\n",
       "      <td>True</td>\n",
       "      <td>89</td>\n",
       "    </tr>\n",
       "    <tr>\n",
       "      <th>3</th>\n",
       "      <td>22-40-45-211_02-21-21_EST</td>\n",
       "      <td>2</td>\n",
       "      <td>True</td>\n",
       "      <td>90</td>\n",
       "    </tr>\n",
       "    <tr>\n",
       "      <th>4</th>\n",
       "      <td>22-41-24-560_02-21-21_EST</td>\n",
       "      <td>2</td>\n",
       "      <td>True</td>\n",
       "      <td>89</td>\n",
       "    </tr>\n",
       "    <tr>\n",
       "      <th>...</th>\n",
       "      <td>...</td>\n",
       "      <td>...</td>\n",
       "      <td>...</td>\n",
       "      <td>...</td>\n",
       "    </tr>\n",
       "    <tr>\n",
       "      <th>65191</th>\n",
       "      <td>04-58-11-558_05-11-21_EDT</td>\n",
       "      <td>2</td>\n",
       "      <td>True</td>\n",
       "      <td>67</td>\n",
       "    </tr>\n",
       "    <tr>\n",
       "      <th>65192</th>\n",
       "      <td>04-58-53-229_05-11-21_EDT</td>\n",
       "      <td>2</td>\n",
       "      <td>True</td>\n",
       "      <td>67</td>\n",
       "    </tr>\n",
       "    <tr>\n",
       "      <th>65193</th>\n",
       "      <td>04-59-10-186_05-11-21_EDT</td>\n",
       "      <td>2</td>\n",
       "      <td>True</td>\n",
       "      <td>68</td>\n",
       "    </tr>\n",
       "    <tr>\n",
       "      <th>65194</th>\n",
       "      <td>04-59-32-728_05-11-21_EDT</td>\n",
       "      <td>2</td>\n",
       "      <td>True</td>\n",
       "      <td>68</td>\n",
       "    </tr>\n",
       "    <tr>\n",
       "      <th>65195</th>\n",
       "      <td>04-59-53-223_05-11-21_EDT</td>\n",
       "      <td>2</td>\n",
       "      <td>True</td>\n",
       "      <td>69</td>\n",
       "    </tr>\n",
       "  </tbody>\n",
       "</table>\n",
       "<p>65196 rows × 4 columns</p>\n",
       "</div>"
      ],
      "text/plain": [
       "                       date_time  x  is_charging  battery_level\n",
       "0      22-37-55-422_02-21-21_EST  2         True             89\n",
       "1      22-38-45-207_02-21-21_EST  2         True             89\n",
       "2      22-39-45-197_02-21-21_EST  2         True             89\n",
       "3      22-40-45-211_02-21-21_EST  2         True             90\n",
       "4      22-41-24-560_02-21-21_EST  2         True             89\n",
       "...                          ... ..          ...            ...\n",
       "65191  04-58-11-558_05-11-21_EDT  2         True             67\n",
       "65192  04-58-53-229_05-11-21_EDT  2         True             67\n",
       "65193  04-59-10-186_05-11-21_EDT  2         True             68\n",
       "65194  04-59-32-728_05-11-21_EDT  2         True             68\n",
       "65195  04-59-53-223_05-11-21_EDT  2         True             69\n",
       "\n",
       "[65196 rows x 4 columns]"
      ]
     },
     "execution_count": 43,
     "metadata": {},
     "output_type": "execute_result"
    }
   ],
   "source": [
    "df_concat"
   ]
  },
  {
   "cell_type": "code",
   "execution_count": 55,
   "metadata": {},
   "outputs": [
    {
     "name": "stdout",
     "output_type": "stream",
     "text": [
      "<class 'pandas.core.frame.DataFrame'>\n",
      "RangeIndex: 65196 entries, 0 to 65195\n",
      "Data columns (total 4 columns):\n",
      " #   Column         Non-Null Count  Dtype \n",
      "---  ------         --------------  ----- \n",
      " 0   date_time      65196 non-null  object\n",
      " 1   x              65196 non-null  int64 \n",
      " 2   is_charging    65196 non-null  bool  \n",
      " 3   battery_level  65196 non-null  int64 \n",
      "dtypes: bool(1), int64(2), object(1)\n",
      "memory usage: 1.6+ MB\n"
     ]
    }
   ],
   "source": [
    "df_concat.info()"
   ]
  },
  {
   "cell_type": "code",
   "execution_count": 44,
   "metadata": {},
   "outputs": [],
   "source": [
    "df2 = df_concat[df_concat['battery_level'] == 100]"
   ]
  },
  {
   "cell_type": "code",
   "execution_count": 50,
   "metadata": {},
   "outputs": [
    {
     "data": {
      "text/html": [
       "<div>\n",
       "<style scoped>\n",
       "    .dataframe tbody tr th:only-of-type {\n",
       "        vertical-align: middle;\n",
       "    }\n",
       "\n",
       "    .dataframe tbody tr th {\n",
       "        vertical-align: top;\n",
       "    }\n",
       "\n",
       "    .dataframe thead th {\n",
       "        text-align: right;\n",
       "    }\n",
       "</style>\n",
       "<table border=\"1\" class=\"dataframe\">\n",
       "  <thead>\n",
       "    <tr style=\"text-align: right;\">\n",
       "      <th></th>\n",
       "      <th>date_time</th>\n",
       "      <th>x</th>\n",
       "      <th>is_charging</th>\n",
       "      <th>battery_level</th>\n",
       "    </tr>\n",
       "  </thead>\n",
       "  <tbody>\n",
       "    <tr>\n",
       "      <th>108</th>\n",
       "      <td>01-37-12-529_02-22-21_EST</td>\n",
       "      <td>2</td>\n",
       "      <td>True</td>\n",
       "      <td>100</td>\n",
       "    </tr>\n",
       "    <tr>\n",
       "      <th>109</th>\n",
       "      <td>01-37-49-814_02-22-21_EST</td>\n",
       "      <td>2</td>\n",
       "      <td>True</td>\n",
       "      <td>100</td>\n",
       "    </tr>\n",
       "    <tr>\n",
       "      <th>110</th>\n",
       "      <td>01-37-50-935_02-22-21_EST</td>\n",
       "      <td>2</td>\n",
       "      <td>True</td>\n",
       "      <td>100</td>\n",
       "    </tr>\n",
       "    <tr>\n",
       "      <th>111</th>\n",
       "      <td>01-38-48-731_02-22-21_EST</td>\n",
       "      <td>2</td>\n",
       "      <td>True</td>\n",
       "      <td>100</td>\n",
       "    </tr>\n",
       "    <tr>\n",
       "      <th>112</th>\n",
       "      <td>01-39-40-761_02-22-21_EST</td>\n",
       "      <td>2</td>\n",
       "      <td>True</td>\n",
       "      <td>100</td>\n",
       "    </tr>\n",
       "    <tr>\n",
       "      <th>...</th>\n",
       "      <td>...</td>\n",
       "      <td>...</td>\n",
       "      <td>...</td>\n",
       "      <td>...</td>\n",
       "    </tr>\n",
       "    <tr>\n",
       "      <th>64598</th>\n",
       "      <td>12-30-06-668_05-10-21_EDT</td>\n",
       "      <td>5</td>\n",
       "      <td>True</td>\n",
       "      <td>100</td>\n",
       "    </tr>\n",
       "    <tr>\n",
       "      <th>64599</th>\n",
       "      <td>12-30-12-839_05-10-21_EDT</td>\n",
       "      <td>3</td>\n",
       "      <td>False</td>\n",
       "      <td>100</td>\n",
       "    </tr>\n",
       "    <tr>\n",
       "      <th>64600</th>\n",
       "      <td>12-30-12-856_05-10-21_EDT</td>\n",
       "      <td>3</td>\n",
       "      <td>False</td>\n",
       "      <td>100</td>\n",
       "    </tr>\n",
       "    <tr>\n",
       "      <th>64601</th>\n",
       "      <td>12-30-42-266_05-10-21_EDT</td>\n",
       "      <td>3</td>\n",
       "      <td>False</td>\n",
       "      <td>100</td>\n",
       "    </tr>\n",
       "    <tr>\n",
       "      <th>64602</th>\n",
       "      <td>12-32-16-886_05-10-21_EDT</td>\n",
       "      <td>3</td>\n",
       "      <td>False</td>\n",
       "      <td>100</td>\n",
       "    </tr>\n",
       "  </tbody>\n",
       "</table>\n",
       "<p>18968 rows × 4 columns</p>\n",
       "</div>"
      ],
      "text/plain": [
       "                       date_time  x  is_charging  battery_level\n",
       "108    01-37-12-529_02-22-21_EST  2         True            100\n",
       "109    01-37-49-814_02-22-21_EST  2         True            100\n",
       "110    01-37-50-935_02-22-21_EST  2         True            100\n",
       "111    01-38-48-731_02-22-21_EST  2         True            100\n",
       "112    01-39-40-761_02-22-21_EST  2         True            100\n",
       "...                          ... ..          ...            ...\n",
       "64598  12-30-06-668_05-10-21_EDT  5         True            100\n",
       "64599  12-30-12-839_05-10-21_EDT  3        False            100\n",
       "64600  12-30-12-856_05-10-21_EDT  3        False            100\n",
       "64601  12-30-42-266_05-10-21_EDT  3        False            100\n",
       "64602  12-32-16-886_05-10-21_EDT  3        False            100\n",
       "\n",
       "[18968 rows x 4 columns]"
      ]
     },
     "execution_count": 50,
     "metadata": {},
     "output_type": "execute_result"
    }
   ],
   "source": [
    "df2"
   ]
  },
  {
   "cell_type": "code",
   "execution_count": 73,
   "metadata": {},
   "outputs": [],
   "source": [
    "def calculate_total_time_fully_charged():\n",
    "    # get the t1 time\n",
    "    t1 = df2['date_time'].iloc[0]\n",
    "    t1 = t1.split('_')[1]\n",
    "    t1 = t1.split('-')\n",
    "    t1 = datetime.datetime(int(t1[2]), int(t1[0]), int(t1[1]))\n",
    "    # t1 = datetime.datetime.strptime(t1, '%m-%d-%Y')\n",
    "\n",
    "    # get the t2 time\n",
    "    t2 = df2['date_time'].iloc[-1]\n",
    "    t2 = t2.split('_')[1]\n",
    "    t2 = t2.split('-')\n",
    "    t2 = datetime.datetime(int(t2[2]), int(t2[0]), int(t2[1]))\n",
    "    print(t1)\n",
    "\n",
    "    # find the time delta\n",
    "    time_delta = pd.Timedelta(t2 - t1).seconds / 60.0\n",
    "\n",
    "    return time_delta\n",
    "\n"
   ]
  },
  {
   "cell_type": "code",
   "execution_count": 74,
   "metadata": {},
   "outputs": [
    {
     "name": "stdout",
     "output_type": "stream",
     "text": [
      "0021-02-22 00:00:00\n",
      "0.0\n"
     ]
    }
   ],
   "source": [
    "print(calculate_total_time_fully_charged())"
   ]
  },
  {
   "cell_type": "markdown",
   "metadata": {},
   "source": [
    "# Task 5\n",
    "**Points: 15**\n",
    "\n",
    "Write and document a function that computes the mean time it takes the phone reach full charge (100%) within a specified date range. Remember that we are interested in time **until** reaching full charge. "
   ]
  },
  {
   "cell_type": "code",
   "execution_count": 8,
   "metadata": {},
   "outputs": [],
   "source": [
    "def calculate_mean_time_till_full_charge(start_date_inclusive, end_date_inclusive):\n",
    "    \"\"\"\n",
    "    Calculate mean time till full charge in minutes\n",
    "\n",
    "    Args:\n",
    "    -----\n",
    "        start_date_inclusive: datetime.datetime\n",
    "        end_date_inclusive: datetime.datetime\n",
    "\n",
    "    Returns:\n",
    "    --------\n",
    "        float: mean time till full charge in minutes\n",
    "    \"\"\"\n",
    "    pass\n"
   ]
  },
  {
   "cell_type": "markdown",
   "metadata": {},
   "source": [
    "# Task 6\n",
    "**Points: 30**\n",
    "\n",
    "1. Analyze the data and document your analysis. What can you learn about how this single participant uses their phone or their habits by analyzing the data? I can see at least three different aspects of the data that could be analyzed. You can pick one or more aspects. \n",
    "\n",
    "2. You can use any techniques you want to analyze the data, including statistical methods, ML, EDA, signal processing, etc. However, please do not using deep learning. \n",
    " \n",
    "3. Make sure sure to briefly document your analysis to help me understand what you are doing. Summarize your analysis, including a research question, and findings in a short paragraph. If appropriate, use plots to show your findings. I like plots.\n",
    "\n",
    "4. You probably do not have much time. I much prefer something short and sweet over an incomplete or hard to follow analysis.\n",
    "\n",
    "5. Reproducibility:\n",
    "- If your analysis requires installation of any third party packages, make sure to document it and include information about how to install them. (You can include links to the relevant parts of documentation, etc.)\n",
    "- Note down, what version of Python you used to conduct your analysis.\n",
    "- If you'd like, you can include a requirements.txt file, as long as it runs on Windows."
   ]
  },
  {
   "cell_type": "markdown",
   "metadata": {},
   "source": [
    "### Solution\n",
    "\n",
    "Point 1\n",
    "\n",
    "In the battery status dataframe, the aspect of time vs battery discharge could be analysed to see the usage pattern of the user, how it was in the working hours of the weekdays verses the working hours in weekends. \n",
    "A very obscure observation, elder people tend to put their phones on charging much often even when the battery status is 80% or even 90%, meanwhile the people on the lower age group tend to have the battery drain closer to discharge point most time, as they use it often.\n",
    "\n",
    "Point 2\n",
    "\n",
    "We can use the df.describe to get insights related to statistical aspects of the usage pattern in the data\n",
    "\n",
    "Point 3\n",
    "\n",
    "For the research however many aspects of the device are unknown such as the make, model, battery capacity, processor, location etc. Such fields along with the existing battery status data can give a much more comprehensive answer about the person's phone usage details and experience.\n",
    "\n",
    "P.S. I wish I had more time but in shortage of which this is something I could conclude."
   ]
  },
  {
   "cell_type": "markdown",
   "metadata": {},
   "source": [
    "# Task 7\n",
    "**Points: 5**\n",
    "\n",
    "Thanks for taking the time to complete the tasks! Please rate how well you did on each task, in your opinion. \n",
    "Use a 0 - 10 scale, where:\n",
    "- 0 means \"I haven't done it\" \n",
    "- 1 means \"Very poorly\" \n",
    "- 5 means \"Average\" \n",
    "- 10 means \"Excellent\"\n"
   ]
  },
  {
   "cell_type": "markdown",
   "metadata": {},
   "source": [
    "| task | max score | note     |self-review |\n",
    "| ---- | --------- | -------- |----------- |\n",
    "| 1    | 30        |          |            |\n",
    "| 2    | 3         |          |            |\n",
    "| 3    | 7         |          |            |\n",
    "| 4    | 10        |          |            |\n",
    "| 5    | 15        |          |            |\n",
    "| 6    | 30        |          |            |\n",
    "| 7    | 5         |          |            |\n",
    "| 8    | 20        | optional |            |\n"
   ]
  },
  {
   "cell_type": "markdown",
   "metadata": {},
   "source": [
    "# Task 8 (bonus, optional)\n",
    "\n",
    "Use this task to make up for any of the previous tasks that you a hard time completing. Or use it to show off!\n",
    "\n",
    "In this task, you will optimize an existing function.\n",
    "\n",
    "Let's generate a list of random strings.\n",
    "\n",
    "\n"
   ]
  },
  {
   "cell_type": "code",
   "execution_count": 76,
   "metadata": {},
   "outputs": [
    {
     "data": {
      "text/plain": [
       "['F0B5G',\n",
       " 'JRLFR',\n",
       " 'A84GD',\n",
       " '3LW5I',\n",
       " '2LFFF',\n",
       " 'KGR4I',\n",
       " '5MOFY',\n",
       " '2SEIF',\n",
       " 'M4QJ4',\n",
       " 'I2LS7']"
      ]
     },
     "execution_count": 76,
     "metadata": {},
     "output_type": "execute_result"
    }
   ],
   "source": [
    "def generate_random_string_of_length_n(n: int):\n",
    "    \"\"\"\n",
    "    Generate a random string of length n.\n",
    "    \"\"\"\n",
    "\n",
    "    import random\n",
    "    import string\n",
    "    return ''.join(random.choices(string.ascii_uppercase + string.digits, k=n))\n",
    "\n",
    "\n",
    "random_strings = [generate_random_string_of_length_n(n=5) for i in range(10)]\n",
    "random_strings\n"
   ]
  },
  {
   "cell_type": "markdown",
   "metadata": {},
   "source": [
    "Now, let's sample 8 strings from the list twice and save the results."
   ]
  },
  {
   "cell_type": "code",
   "execution_count": 77,
   "metadata": {},
   "outputs": [],
   "source": [
    "def sample_n_random_strings(strings: list, n: int):\n",
    "    \"\"\"\n",
    "    Sample n random strings from a list of strings.\n",
    "    \"\"\"\n",
    "    import random\n",
    "    return random.sample(strings, n)\n",
    "\n",
    "\n",
    "sampled_strings_A = sample_n_random_strings(strings=random_strings, n=8)\n",
    "sampled_strings_B = sample_n_random_strings(strings=random_strings, n=8)\n"
   ]
  },
  {
   "cell_type": "markdown",
   "metadata": {},
   "source": [
    "Our job is to check, which strings in `sampled_strings_A` are in `sampled_strings_B`. So we write the below function (`approach_1`), which seems to work."
   ]
  },
  {
   "cell_type": "code",
   "execution_count": 78,
   "metadata": {},
   "outputs": [
    {
     "name": "stdout",
     "output_type": "stream",
     "text": [
      "The number of strings in both lists is: 6.\n",
      "These strings are:\n",
      "['2LFFF', '2SEIF', 'A84GD', 'I2LS7', '5MOFY', 'F0B5G']\n"
     ]
    }
   ],
   "source": [
    "def approach_1(sampled_strings_A, sampled_strings_B):\n",
    "    strings_in_both_lists = []\n",
    "    for string_A in sampled_strings_A:\n",
    "        for string_B in sampled_strings_B:\n",
    "            if string_A == string_B:\n",
    "                if string_A not in strings_in_both_lists:\n",
    "                    strings_in_both_lists.append(string_A)\n",
    "    return strings_in_both_lists\n",
    "\n",
    "\n",
    "def printer(strings_in_both_lists: list, verbose=False):\n",
    "    print(\n",
    "        f\"The number of strings in both lists is: {len(strings_in_both_lists)}.\")\n",
    "        \n",
    "    if verbose:\n",
    "        if len(strings_in_both_lists) > 0:\n",
    "            print(f\"These strings are:\\n{strings_in_both_lists}\")\n",
    "\n",
    "\n",
    "printer(approach_1(sampled_strings_A, sampled_strings_B), verbose=True)\n"
   ]
  },
  {
   "cell_type": "markdown",
   "metadata": {},
   "source": [
    "Sadly, our approach is really slow for larger data."
   ]
  },
  {
   "cell_type": "code",
   "execution_count": 79,
   "metadata": {},
   "outputs": [
    {
     "name": "stdout",
     "output_type": "stream",
     "text": [
      "The number of strings in both lists is: 1008.\n"
     ]
    }
   ],
   "source": [
    "def make_data(random_string_of_length: int, random_strings_number: int, sample_size: int):\n",
    "    \"\"\"\n",
    "    Returns two samples on size `sample_size` from a list of random strings.\n",
    "    The strings in the list of random strings are of length `random_string_of_length` and there are `random_strings_number` of them.\n",
    "\n",
    "    Example:\n",
    "    —--—----\n",
    "    make_data(random_string_of_length=100, random_strings_number=10**5, sample_size=80) is equivalent to:\n",
    "        random_strings = [generate_random_string_of_length_n(n=10) for i in range(10**5)]\n",
    "        sampled_strings_A = sample_n_random_strings(strings=random_strings, n=80)\n",
    "        sampled_strings_B = sample_n_random_strings(strings=random_strings, n=80)\n",
    "\n",
    "    Note:\n",
    "    —--—-\n",
    "    It can take a few seconds to generate the data.\n",
    "    \"\"\"\n",
    "\n",
    "    import random\n",
    "\n",
    "    random_strings = [generate_random_string_of_length_n(\n",
    "        n=random_string_of_length) for i in range(random_strings_number)]\n",
    "    sampled_strings_A, sampled_strings_B = sample_n_random_strings(\n",
    "        strings=random_strings, n=sample_size), sample_n_random_strings(strings=random_strings, n=sample_size)\n",
    "\n",
    "    return sampled_strings_A, sampled_strings_B\n",
    "\n",
    "\n",
    "sampled_strings_A, sampled_strings_B = make_data(\n",
    "    random_string_of_length=100, random_strings_number=10**5, sample_size=10**4)\n",
    "    \n",
    "printer(approach_1(sampled_strings_A, sampled_strings_B), verbose=False)\n"
   ]
  },
  {
   "cell_type": "markdown",
   "metadata": {},
   "source": [
    "Let's benchmark `approach_1` on a slightly smaller dataset. On my PC, the benchmark takes about 16 seconds."
   ]
  },
  {
   "cell_type": "code",
   "execution_count": 80,
   "metadata": {},
   "outputs": [],
   "source": [
    "sampled_strings_A, sampled_strings_B = make_data(\n",
    "    random_string_of_length=100, random_strings_number=10**4, sample_size=10**3)\n"
   ]
  },
  {
   "cell_type": "code",
   "execution_count": 81,
   "metadata": {},
   "outputs": [
    {
     "name": "stderr",
     "output_type": "stream",
     "text": [
      "UsageError: Line magic function `%` not found.\n"
     ]
    }
   ],
   "source": [
    "% % timeit - n 100 - r 10\n",
    "strings_in_both_lists = approach_1(sampled_strings_A, sampled_strings_B)\n"
   ]
  },
  {
   "cell_type": "markdown",
   "metadata": {},
   "source": [
    "Benchmark results on my PC: 39.7 ms ± 2.82 ms per loop (mean ± std. dev. of 10 runs, 100 loops each)\n",
    "\n",
    "Can you optimize the performance of `approach_1`? It is pretty easy to make it run at least 300x faster. With some work, you can improve the performance even more.\n",
    "\n",
    "Write and document a function `approach_2`, implementing your optimized algorithm. You can use the smaller dataset in development, but assume that I will use data generated using the below to test your function. It may or may not be relevant to how to you optimize the function.\n",
    "`make_data(random_string_of_length=100, random_strings_number=10**6, sample_size=10**5)`\n",
    "\n",
    "Hint: \n",
    "\n",
    "There are at least three optimization methods you can use and you can combine them. \n",
    "- Logic (moderate performance boost)\n",
    "- Data structures (very large performance boost) \n",
    "- Popular method that gives the larger boost the larger the dataset, but may require a third party library or calling shell. "
   ]
  },
  {
   "cell_type": "code",
   "execution_count": 82,
   "metadata": {},
   "outputs": [],
   "source": [
    "def approach_2(sampled_strings_A, sampled_strings_B):\n",
    "    # using the Sets to find the intersection between the two lists\n",
    "\n",
    "    string_a_set = set(sampled_strings_A)\n",
    "    string_b_set = set(sampled_strings_B)\n",
    "\n",
    "    if (string_a_set & string_b_set):\n",
    "        print(string_a_set & string_b_set)\n",
    "\n",
    "    else:\n",
    "        print(\"No common strings\")\n",
    "\n"
   ]
  },
  {
   "cell_type": "code",
   "execution_count": 83,
   "metadata": {},
   "outputs": [
    {
     "name": "stdout",
     "output_type": "stream",
     "text": [
      "{'F8VERSBD7TZS9DT4D2FGJSL3WW8W7H11WRDU9F2AHSP93APRL3B2TOV87RZYY0STDEQ8IM4FWAOSC7FO69W4B8099YVIX4531A4N', 'XQV07JUEMUBH4OM2X2H22NRZCZK5HFVVSSGOZWMMO5B7UYXLW76YSBS2S3425Q2DIYU5OBEFIN6XBE4EK9PY83A7BHXBSHOWG3NN', 'JELNDEVHVUWFESS6ECQX9QYZUX6O0231ST2GURUZW03QAHO12MWSYD7H842MC26OPU4AWFD967UCEGYKXL7BOBVERZYI2DY9T79L', '642Y2YFH7A6UYZEXZCIXD9LP9CHHIYOBIZQVSFS1U0J6MQLKIL3IB14V3GDANSHSOP4CI29NB9Y7TI01RWC8NO542WVTPBYJB34J', '217P3C9RY3KY6YJIXB3S4XXHPFABT7KV2AQFTKFZYEEVUACQ5BWE6VK79GI1L4EEVPI5X4870FSLI19LP3AACWHCBLGUYRG3RA33', 'N6TB8W8U7VQUL7HSA2HC8HMKDXVVWTBGCB9C484APZA2VQ9WQGXA5SJNQM7GE2RYQ6T8QKJNTUUQMN945ZP68W3OPDZPPMZXD9H6', 'AZ1YK56D5AQUNRT9FB6ITVFHX1RMC897OCS50NHTJZ47ODX3LMJPFPM0E5Q7PFO2DH9N4Y6FHJVTOM0HXR0SHFKFKRFQDLFBBIGL', 'YUY0ZUT0EMB7Y4ZW47ASCP4491E7L0R3RJK7RO6QJA2MWCV6QC0XAJ0NXSQCG98ST8Z706UWEMW7OQSFDANXNV25Q9BKJ0CJ2DZY', 'FWBUQ00CWGQPYUKQU4OKQ7WIHESCHXT7U8LOGC7UY94S0VQT84N1BLU18WKZVFTP34W8D553K9D2FCKGQ79MPDZ1T4EOM378XPLH', '35A1LTU7CCHUB3J44H4SU66LULB7M3LDERUJIZ12EYKJPCQW2N0WXPRPOINAN8XIWNOANH7YZ3HSV9E0PLKVCP2VAYJ3LNS7TA98', 'DKSH40DIOZTRX9ZDICLDO7KIQ3LJ1TFUAX5X260PJ54417SXXX169392IK5WGCLW92L2Y7CETQX5PGXTMKC4GQ9GPE9C0SLGKGC0', 'CWOTXANF40PD5S2V12R3Q3MVCO21WPLO1TZYBT20X4LJ9SUIYQSW6G4XF2UN74YA5X8SSABCA23N8JG7K7XXOYFBM9L7OOIUO1PR', '84NEYNC7VPHYD26O7TUYWRAVQDXJE2ET0TZ0RZNDB92UAW5S5573RRE2HNCT5DOYDMGLF33BANY6PVDASGN9KAFD5IIA233YAU5K', 'XAP6D47IO6PGSGON2J21QBB412ZOEQRMLJNIJG8V5X1V1HIJRD6OSBPHE2O92RDTSQ16QPJUCFFHJRLG3HSXD3R3RHMIWQ5UC9XK', 'K46LBUWWO2995CGFA3XY8VCILHK0YV7SCCHD2M5NKLADA4XEZ7J07MXFN8NG1TBKSU6RVCABEPXXO35NDLP5G8UU79GCD4Z32RNJ', '3TSNIIJWZV5BQS7SX71LG6ZCDT644OJACHJ48CORO706HKKFHZ4HD4MCWF6OXIJY8VYZP0BUH8WXNEU7ZGDYOF2YK3103QE2CGEE', '8BVZQMZES0C77BH0TKXSZCL6XO2CJTB80UAHU5MJG7511RIWW8ZT8NI8RN9WB5H69OTH2GBG748T4XP9WYZFVWZC2I2IHYF89CME', 'ALF9T9QGEIHFJZ96Z8M8HJ1AY91TOJ2D0RYNELFTC3KX6WPGU40MMHNBM1Y4C1LEGED68CDCD1LO0L3O2WU0Y79LLDD86DQM4FU8', 'OEQ037PVKOXDQC4RLJGKDTTOY4IL2K9RXIMIN25UWP6WP6XCCOFRB3NVOZDSLMWX5PRODJ7GRO0DCMKWI4BS1UES4ZCSYGZEWO3G', 'XGUPCHM1ID41C1WX14886JQQ3RDBYSR8ZGI13LBCW8E7NIG2I2LX8A0SB43XXWOVK6080I9ARO33IZF6PNELIF9CV2QSXSDJP7B7', 'FA18RH7Y8T2V04EIG4WW83EWO06OBKYBSOIO11ZB6EH1DSVGDGBZPP9R3PFVJ2RSK8NKTY0G7XI572BEU913DU7AX9UQMBCQWK13', 'GO572AEEZY4UJ8G53DVTRMNS5EJWR6GPNC829CAXUE4S3DX7Y9Z37V0GDTRN6GAL8WPMANCK2TUIFKQ6ZCIC19M11BYUXK726EKF', 'NZXYBICZ2E4FC1IRIQ6O5RFT4ESZ16PVDIJUJSWZR5LQUG11S0BNHON69V5M8760PHZJ09ZSKDWPRZEKJKOMFMD0C0FNWJ48794X', 'MWWT1QRB8FMEEX1TF3IMGN9Y0BA7573FKFYYLLB5TN2DHSR8TPG14ENDD6ZMMX55LW179XOJHUM6CZBRWOEGM0VONE5E551G80Z0', '6EKF2FC7FCJQE9DLQZG9MU53670UHPQHWTBBQVGMSKOAPPYDJQK8UDGXAADO1LI4TDVIMTZMVJE7MJ602Q3KFTVBJBFOYW0I7ZXL', 'FM5EJDR4KQCF95XDTQRZEH9LQS97NZSJ6JV9HNPS3G654P1TK8B386QHMAG4KTP5PSGC2B8H4DR2PJ7N880OZW2D7NWW1S43KBJP', 'ERZG0JWNJ0JG8FXQZZ7U01U5E85N0WI7HF7XWULL8WT9I7FNP47MQYV7MBMB4ZFFBBWTHQ8L5GUFVCXMPEK7T65596P5Q8Z6CWTN', 'XU7BRBPHF14EPSZLV3EDQSCRDJ3EP6MNF3LE0PLYJJ7ZJ30JGK563AN579DVPHRNPR3PIGI2I3ED2A6SJ8JUWAT064088M1PVKO5', 'UU33BU0TE5KW5M83NH225CDE8I9VOAAP2S5T7KQWCRLEP19K9IYX6UD9VKD22C04A49XO7XPQFC79VY40TDR7DUEPCHEJ7OTNWQF', 'B20Y6MFU439LJB5KOPBCT8IGYGPODKIDO36S948HQABM6IDP1XRW3ZAW64HS4ZEAL1LTLTA0I3G2XPP3H276O68K1ZSL0JMGB3ZU', 'G3I7XTH3FSEZ2J6A7MPP8TAKUSE13VCRHCO9Q28HJM2UEPHUSCFFYLURJRNZFGRUPEK5D4PE8YCPX9OU67FS1FW7NZH5BRRAH3QH', 'EAO3UGLMOC4GPUMS0OL71WCAMNQGT9IBN58QNF4RF1O0UL1VMNBCDVTANSX98J9T2H3IL5EEM0CD2WS60HPE6W2DZ6EC069J831A', 'OCWCF9FN048JZ70N4895JU40J9LO1VBFD15CBH6HNOJVT86WI9ROY0JVWGZDYTO5FW4Q51NP4RKB358KMPPXPYOHYEA7MNCH29JK', 'GI4OLBQELETLEB760YK3AQG8T3VDKO0ZDUQ29MH50QHKBSZL41I5YPV0PK98R1UTETQ5P0B1Z5R0YZI5IC1A5B1MQ4PW5PHN4WH3', 'J36Q4O293UQJWTW5AAVTJCQOY2CLB08BNLUMQD8JVY5DN2M4OL9NGNLSQ3LPJVOCAG055CVYKJ8GAD4T9UTBLA3851SZOQMBTD5T', 'TJS3TZK3SL4UQPC38N8Z0FL4KUUJ5P28LFWYG3IXW9NQTG81KIFON33OOVZSCHALZ2SBUU9MTQXZKWW0UKFQNPNS1L661OO52ET9', 'MMW8CRY46KACTG3AQZAYH7IMA5ZP7YKI1J688W68OQBXOHLE2M9GSK1G6JCA7915KUWG759A3UTOM0TKK3CI9VMJH6KRWCOZ6VKC', 'Z0GOQ9KPV6Q5MRB5031Z9C6XTR5VNTOBC65U3T7CTG5SKTX013JCCXPMGFEMCS64ZB4MM1ENSV7PFPXGH5QR6A0TCM9SRO5OU0MK', 'ABOXD2X94BE814DP1LEJJQXFCBGNJ0BPLBC2FBDDX34VBV5UQJNB8K5CVHQCPBCAR7QUMPC77UBCG0IDLJTJAH64MUVG6UCO58KE', 'AZDVJN6VXXM2YA07NY9I05SQEO5PYJHX79UNUXPATB8DTD58MUFRY1MY97WMOHP5DTSX034OST214RZHF6KYIB93O8427KL4QZWG', 'A8CCOYIJ7U1RTIM7TVSBLSVFD98Q5876C3OO7QL39YW8XFQN14YMTA6289ZON6CTKXST2EAXHX9JUY0IQEBH39HRXWZY2I9NY890', 'BIW6CE18OUEXFQAA9LQ1SXYFZDR9FJPWGY0KRJH82AE9V0KQNX4L4Q17SN8VWUTSHPLFSRBOZ126HSCMKNYOVO7MJ0WMCKUNW2A7', '1NUHY6BB4TMZ0YEJXZPIBKHF3YB9OOK59S3FAD9NUMXD26GQ9VKJYRHO9T4GE2Z0R9C8MU0PC25PXST413NI3U7TAC0ZBYYNNQPD', 'G3BYHJSOA0LLV2UAFDTHQCQN7RZ5QLQ2XZ00B6TBNCB1NZLV4VQ4MJ5WF52Q86WD29WLDJP4GHAMZQZU4JYQ01956ZKQJ52L4SE0', '5AIZTV84D3C13DU5ECLJ9IJZXG464MYYEIOQ8P967S458RBBB62LL6FX1WNQZ1HS6GES9RMORWHHJ2HSR1YQYWRY97S3R5KEDJ6G', 'YIQKUME9D3NE4N3JVTP5LK09AZPCN30SZPYKQ6ZAWRDTET3621HMTV21DL7L3ALTLLCMG40STOKHIW37RHRET4DT1RUYF9H51F6R', 'SS6S6T3X5AUSDEZOBXU15R39IWOFFSRASM6IIG6R6LUWZL8XFG9JI7FN559A3YTUHP1VRJVTH77OP448NMTN567YKB2PF5PE8J5O', 'ZJIRQ5TLQK03HO5E8YI8XGMGHW3POUYCQKHM9WVXF9A1NIOAGGTATIVW0OSTME68OFKJ94KU6WC35K31JKO7W50581UDJMNWFVSL', '8F39O2NJXMMEDODDHZEKRASXHQ2NP435RO34A9KP8L74M66VRTSTG44VR8YET8E26SAWTN9DWJA83EKYWAESCAE3VHMSOCC72SMR', 'AUAHD1VU4U469LE4ZM1BZEO4LWUIZX11KNLRVWPWPT3Q9CJ79EPPCAQXDDDESEKAJ9MSZAXSFEKITNZR39XICGX9FQ6KB4P3I4K7', 'RHARKHBYQVRO653OC4WGJOYBB5IQ77YN7461VVV4MOG1CR2U6S3T5AL6ADS43MSNY2POJ9SQLKS93ID2VF16TU00OFJUHRMCCV19', '0SECJPZEYXW9KTPI0MH8ZB9EMWDKIJMPBMIWD8AZ5XFNPHORGMJSIO3FBMU2MFWAFIIAIXND75PB6SAB49FQWK8JWG520KVH4ODH', 'D6QD3343C12XFSGIVFFLQFGPNTF21AA31ITS1IIBK9RN0HDOULUKS0M3FOW644K4TGRWQSDPJ8E23W9X52FVOGBT11CJSMQEFLM2', 'MZDX6BUTM04GZKGAGXVH2QYFXQOFIIQH2VWQTY6ET4TR16TJ414W3RHSAF53BIP20SW2YYN4JJJTKHS81JP2HPSAHZM44DTYCWR6', 'SY9J76F1DNFN3EPD55OUA0ZFYH3DC7MYZFXHYN6C6YF0YQP5F2VA9VQBSJQGIGLZIQGM196ZHTETZT8PP31DDVEK2VEYF4LMQ19E', 'T10GN5PZJHAF6GR3D2KZTAP44QK97HD9HLXFZUNCYCEO2M2EJJ78FA2V6NYAUFA920DQD5786C8Q7EXW7VJWRCEJC2IA8GEDQU0C', 'VYNIIQIWTNDT93TIO4UIZ7N7YVJ5WUHQFDJJACJESMVR8K1WL8DN0XKZ7TCA3C4KOF5XDNAIO56M8DMGW3HEWJGOL6DEBRD43OS6', 'YBOL5PWJJBCWJ27IVCJ13TPCDTSO3S20FNPS1OVRCUOJ8E80JBS6GZ7QCDWO3BK3JHKTWXAA6V2H50LLSOX5AGTBM2ZYKGWWKM5A', 'MEBX94QFPICNQWG5YU4OOPGSCA4R9KYR24K5DQ9X7Y8WEQ4ML7VVQ1ADO7ZK1AGAEZVNZRAPVAWV42DZN7O4NCQDEPBVP9ERDQ16', 'TIBFTR570MKI1HXRCNHGRHOJ3G8JXFXGO6QCPEW9XFQ10IC1KVWTAP1AT4S3I0T0E53ANB5W0BBZIJ0RSYFX8C0C8U3ZSO1ED6RO', 'XH4JD5IA3STKWSW0W8SZ6S0HY6P4E6BB5QKJQYSZ4VIGQTAUC0LLK3GGSOCJODE5C93G2IZHR9ITN1LZQP216Y8HZW3M6AYD1WCI', '8W7XV00VOBCNNBTJIH3AR9FMZFJFFCN6XIOX4SIE3EY9Y2I8T564VIL4M8GJXZ7JHGU81T4O043MS8ALQXDFQ38ORQNBRKM654ZO', '0STGSFRHZ5LEDZV8UN2AW0C66ARVUE9UD8G2K5H7OOW5E2RCWJ7D1PUCVLIED7Y1LGRFRJJRSC2XHIMV3JX4WX04GPCEN9MM2VQ8', 'TQOIDJRLWW17KIZPLWJK05J3NGVD8QL5MHE6GMXS4F2A34IFK0B5YMALK63INT0U77AKER5Z2HH0X0LG6LEST4AZD3YF9LZCYDCB', 'B9UKJW6OVVBB9O8V9BATU2J0YLUK1OM2R54EW8R6MINNAG0AGSUG4N4MARYCXT15V06HW4N1OD0CL60PJRPD364C93HERT1V2LT7', 'RZF0K5MNPGVNE05U69HMNARHBG4A3D8WV48ID8PSDE2BMU1ZOKSCGIDT9MP7I0JERPN93KIO8Q2KIDVZMA44LRSXG015D64G42TY', 'Z2QNTPDWOUFN1B8Z8ZADQ04518UJ5WBVS5L08WR0LRLIKC5U1ZX1541KOAGBRHH21IRLVW72AHY6ZUT56JEJT8XOX4CQ1V2UNK53', '420SHZYI1ZIEVXDTYVBYW7F8WATZKD0M8WGTK69VB48U0PU0CBE9KKGJ6SC5Q7WOLMNXESLQUY2QQM08OV1P0L6SP72GBBE8R5QQ', '2KXWUGV9HPTYXVHYMCU3AHUVH9FX8O1U1MVS2KJKH389DNI5NWASC6YME0EW9F56YA0PGE0KLNTD9Y79MYILYPJS2ZA99ERH6PXI', 'SYMYIEQE62OJ3WO9WTIC6OTBNFZ1TJHTG0KBC8TME5DO1D73RKI8QTMUQE69SR3BRTUT5NM7I2BBEOVR26AYDWPQT857IJ6KPRY8', 'DOA7QQ0Q6EX8CPQZLEXZPUZXA78P41M1ZCWI3N0XNLXEETB2L4F0G70D84P9JLHCIV0AK000M7LPNK3Y3I4NTOXSG5DNBH2XEZDF', '32Z1SR195MTRD4BFHENQ8HUQ0OILEH192QWGY20DF0U79LL0UI86LMAE27HZRIDOVV86XSTHXORCWH19S2OC1BX6JPATHXVO6SO7', 'WV2IAFRBCV5W6JX8K4NZO59WLH2U2FX7YAXR9PDMY0HOBXV705OZLB4IG9CCM5M42NM9LTU4Q3DHM9NN6ZFWR13ZJ8S66P63WF92', 'YSQIDE5WIH868A1QR5677Y72MHR3HQ06SC69XLTQHLYW1S57LRW32YH2FWI1CPIH2E93E8KEB9MB33F2Q44TN5C8KKED30CSOBB8', '2L73Q3CZT4X4YQMDPY7CYNQCFK3RWR4E2HPA374QKXZ544OH39VBFM12W7K7IRVVNVQI423PQHTSG9AEVKITMJHZMTHDYALJZH2C', '6UTY03CX635HXL42EX7FM3QC7P4OE6BR8YFXN70RNLWI8G6WI9MS54QR2845X23SNA1Y7XOTXYFBU1U75GXB55BBTVC9QHOYITL6', 'KF4RZON3BBD5CNZ9CD3L679NYOMPNNS4HE515RF5DORK9JF2H6ZSW37GDUTAPVRJHO833QVQC2KFJ6069N7708CDZO0XDWHJWIAP', 'PPU9A6AVOKMM3NCF106H3L783UUWST1W5AWH5PULG2V8CI555D2I6M8VV3AOUXF0E2IZSOXH1J0YY1GBPHJU5MV7VPINC2IFR42Y', 'S5HWMDUBFIHZNMEAA0NWWIWTHWJ2K2Q0ZMTKTEDLK2NXTSMKB0E8TVOIJFET2YAE38ULV8AJRQ7P1WVCGSDNVBM4TFYQNIINOGNH', 'IW5VRHMFL8O3ZP0XKVHNKYT87NYCLEZL2N93OL21LAIFRORHYZMNDBEGAOBOHKVC1GABLX4VXG22ARCL6NVCIVT95K5XR9IPAPCC', '622QZTJDE2DGGZ8GXD2IZ7CCRYGJPJO1PLQLI17RDFU5ZFVUDAVY1NMNJ2FTEO192UZ7VSYEW3WGFKAD5EEGU6UWF4MZO5A7MBNR', '4HZ6SPQSZOIBUK8CXUOM38LQLET84AUTU9ICTGXQBQK6OBPTFYZA8CM4K98N3N0BYNI2S0KTBJS208CUUKWXSXT5JESOG6Z09YV9', 'QF0SHAM2EKNH825HIT66LDKDY5VFQTCRASEGCFSLMQ3WAYIEINQPW45YKNLYX0T538QLIBTK7D3RQVN49V31DLYNOUAD15XPITAR', 'UYZTK3GNUVA6C5Y13WSKZII9YZKGERA7G0FVHVZV5OKJFCYP84N3614TGKIS7LF355AVHQAPEP2KY8KQMB7CFCROJX5BVMBASSQV', 'T3AAGDJUVEWNPWAPKCQR7ZF5WQ5VI7KTU0UD9XN13YNV6SVLBQ1JYBWBYA2V254CJL4BONH70HCKVYMORMOG5UCKRTKZN4KR5M6O', '8NCG3KZZYOE4RRECHFPVW2ROKVIP144WPIO68RIQ3XRCPGNOZCJEOD7G4Z9OARJ7N0XK49FM74YX6BASLPWBIRT2G7LWUVKTUELP', '84SSS05QYPTQXF8FIS3JDJSX4T9KJ19W7Q09RYHB1DHHD77U1POZHGDT3N3QLZM9YQ8FKAOUU6M044UN48CYDVXRYIF41NCGL9GL', '2E03BGL9N8Q3XU3QB49I81PKTS0JYBFWHAFAF1J1CW0TH9REMBC4O2QMQ44K9Z0EK7VG50GPHURC515PKJGKP6UE61HFV8IOSD81', 'WP57Z5T07CTZVB9USZNB4WWJU6PH0R0PXKAKG36YH8YJQMR7KUGXLWDVATUB4B2QUOA06WIU8HXRDO8PE5MVXWZJQGTFDDKKHSB1', 'X1U4T1VP5E4S5V8XYIUJD8T1LB4THSHL85DQTYYI403AM228FP1HAXZWMA624I874KHA819R2RDM6B0Q5IYCER76MO3SYPVZXHIX', 'WRP8ZA7TKB7E435R78W5QU2BTKXQ6JWEZE8X2P05887S2OKL3R3VXF1Y1930HX66CWW34YI66T73SHOH79IKPTEN2XD8Q84419LG', 'QFP39S1MHRL68DJYG2X8Q25ZH77S9B849V5HOXD4Y77ASSBM2UBU4ABCCGTGNCMVR305MU6QJ2P4CMI784B4AU936YY0ZV8FGGTG', '4FBB4ICDU7KCQ6QUAU5AQF72F11S75CIAGFENHJFWO94LMR7V9X6RGOD86AY5I9SWVA74Y23LWRQBQWNCNTN6MT9Z4MATAUT64SG', '9B46C673J93JXPQ9LQB0EB2WD64TFWB0OSKL7SXCKBD478N6X4HJSD73A7NKWX4TQPAYOF30FLJSDAJ6B5G49S7CNEXQAFQLC232', 'XF341E24YWAKMOT5NNXAU3URUH3FPJK064JN6GYBAXAVNAB3CFL7M1E63Y190LPY4AIJ8WF51BIO0OV769D8NMYWRVV4IXF1SXP6', '7USUX79IL0RAHP7J75VSZ9YVYV3O1CE6HQHMSYL4AW405PMBS6YZPL59968Y84O8EUDWXTRFEZJJVS8EEUDH59L5W4WBEUITYFXL', 'GSR1YV9AGWGS8GCJKELKTDOA919TWKZQAUXC9XWBAW4WK0QG14WQ0NPACF9BMQWZGP0C4K1515BS6BGOIWI4I1QXI4H9PCEL43M4', 'YYOZ4MFCLJ1CAGS79FMHODSUHSLONQTQ1GQN4Z7EW2LNEUAH5NQQ8IE3S4U0IZ2OFB6X46GDLWBE87LW8K8MABJJ5PMFJ52AF8KC', 'GUDTP02QP8QQ7212OKZ6OMDXBXH5DZ9W2BEU8QYC3P24BYPEQSTIJORX8IARFAIQ5UH3EM3NEVCU5KZ4NYKNKY3S8GBTSGSQ8MBK', 'S3T7QE9Z5PPBNLS60WGFVBPBSW38SNV7RS3TZHAUT0AI6G5GZVD1INXZ6V8NWBE5B81OASCSUBH1SG0OWAEID55P5LZO5R0E1ADV', '67583ISYHSYXIP7OHOXYL5463WXIR90QN9N3DCYIVVZ2KPOO6RUCLVTKYA2RMTX3LBW6M9CC91JK750YWT6RKDXPMVQM3VVRJUNV'}\n",
      "None\n"
     ]
    }
   ],
   "source": [
    "print(approach_2(sampled_strings_A, sampled_strings_B))"
   ]
  },
  {
   "cell_type": "code",
   "execution_count": null,
   "metadata": {},
   "outputs": [],
   "source": []
  }
 ],
 "metadata": {
  "interpreter": {
   "hash": "0b666d190292ae7f8772b0beafd53385ef4d4e1c071aaeffb247400810ab6cf7"
  },
  "kernelspec": {
   "display_name": "Python 3.7.9 ('foci')",
   "language": "python",
   "name": "python3"
  },
  "language_info": {
   "codemirror_mode": {
    "name": "ipython",
    "version": 3
   },
   "file_extension": ".py",
   "mimetype": "text/x-python",
   "name": "python",
   "nbconvert_exporter": "python",
   "pygments_lexer": "ipython3",
   "version": "3.9.7"
  },
  "orig_nbformat": 4
 },
 "nbformat": 4,
 "nbformat_minor": 2
}
